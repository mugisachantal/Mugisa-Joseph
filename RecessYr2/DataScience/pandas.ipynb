{
 "cells": [
  {
   "cell_type": "code",
   "execution_count": 3,
   "id": "d6c68518",
   "metadata": {},
   "outputs": [],
   "source": [
    "import pandas as pd\n",
    "import numpy as np"
   ]
  },
  {
   "cell_type": "code",
   "execution_count": 4,
   "id": "0618f914",
   "metadata": {},
   "outputs": [
    {
     "name": "stdout",
     "output_type": "stream",
     "text": [
      "1. DataFrame read successfully:\n",
      "   Year      Date  Time    HomeTeam       AwayTeam  HomeTeamGoals  \\\n",
      "0  1957  10-Feb-57   NaN     Sudan           Egypt            1.0   \n",
      "1  1957  10-Feb-57   NaN  Ethiopia    South Africa            NaN   \n",
      "2  1957  16-Feb-57   NaN     Egypt        Ethiopia            4.0   \n",
      "3  1959  22-May-59   NaN      Egypt       Ethiopia            4.0   \n",
      "4  1959  25-May-59   NaN     Sudan        Ethiopia            1.0   \n",
      "\n",
      "   AwayTeamGoals             Stage  \\\n",
      "0            2.0        Semifinals   \n",
      "1            NaN        Semifinals   \n",
      "2            0.0             Final   \n",
      "3            0.0  Final Tournament   \n",
      "4            0.0  Final Tournament   \n",
      "\n",
      "                                SpecialWinConditions                Stadium  \\\n",
      "0                                                NaN      Municipal Stadium   \n",
      "1  Ethiopia  wins due to disqualification of othe...                    NaN   \n",
      "2                                                NaN      Municipal Stadium   \n",
      "3                                                NaN  Prince Farouk Stadium   \n",
      "4                                                NaN  Prince Farouk Stadium   \n",
      "\n",
      "        City  Attendance  \n",
      "0   Khartoum     30000.0  \n",
      "1        NaN         NaN  \n",
      "2   Khartoum     30000.0  \n",
      "3      Cairo     30000.0  \n",
      "4      Cairo     20000.0  \n",
      "------------------------------\n"
     ]
    }
   ],
   "source": [
    "# 1. Write a Pandas program to read the given csv file.\n",
    "try:\n",
    "    df = pd.read_csv('AfricaCupofNationsMatches.csv')\n",
    "    print(\"1. DataFrame read successfully:\")\n",
    "    print(df.head())\n",
    "    print(\"-\" * 30)\n",
    "except FileNotFoundError:\n",
    "    print(\"Error: 'AfricaCupOfNations.csv' not found. Please ensure the file is in the correct directory.\")\n",
    "    exit()\n"
   ]
  },
  {
   "cell_type": "code",
   "execution_count": null,
   "id": "efe0a3a4",
   "metadata": {},
   "outputs": [],
   "source": [
    "# 2. Write a Pandas program to get the first 7 rows of your data frame.\n",
    "print(\"First 7 rows of the DataFrame:\")\n",
    "print(df.head(7))\n",
    "print(\"-\" * 30)"
   ]
  },
  {
   "cell_type": "code",
   "execution_count": null,
   "id": "8e155550",
   "metadata": {},
   "outputs": [],
   "source": [
    "# 3. Write a Pandas program to select the ‘HomeTeam’, ‘AwayTeam’, ‘HomeTeamGoals’ and ‘AwayTeamGoals’ columns from your data frame.\n",
    "selected_columns = df[['HomeTeam', 'AwayTeam', 'HomeTeamGoals', 'AwayTeamGoals']]\n",
    "print(\"3. Selected columns ('HomeTeam', 'AwayTeam', 'HomeTeamGoals', 'AwayTeamGoals'):\")\n",
    "print(selected_columns.head())\n",
    "print(\"-\" * 30)\n",
    "\n"
   ]
  },
  {
   "cell_type": "code",
   "execution_count": null,
   "id": "8c1a45c3",
   "metadata": {},
   "outputs": [],
   "source": [
    "# 4. Write a Pandas program to select the rows where Egypt appears.\n",
    "egypt_rows = df[(df['HomeTeam'] == 'Egypt') | (df['AwayTeam'] == 'Egypt')]\n",
    "print(\"4. Rows where Egypt appears:\")\n",
    "print(egypt_rows)\n",
    "print(\"-\" * 30)\n",
    "\n"
   ]
  },
  {
   "cell_type": "code",
   "execution_count": null,
   "id": "17e6cc18",
   "metadata": {},
   "outputs": [],
   "source": [
    "# 5. Write a Pandas program to count the number of rows and columns of your data frame.\n",
    "num_rows, num_columns = df.shape\n",
    "print(f\"5. Number of rows: {num_rows}\")\n",
    "print(f\"   Number of columns: {num_columns}\")\n",
    "print(\"-\" * 30)\n",
    "\n"
   ]
  },
  {
   "cell_type": "code",
   "execution_count": null,
   "id": "a24ca449",
   "metadata": {},
   "outputs": [],
   "source": [
    "# 6. Write a Pandas program to select the rows where the ‘Attendance’ is missing.\n",
    "missing_attendance_rows = df[df['Attendance'].isna()]\n",
    "print(\"Rows where 'Attendance' is missing:\")\n",
    "print(missing_attendance_rows)\n",
    "print(\"-\" * 30)\n",
    "\n"
   ]
  },
  {
   "cell_type": "code",
   "execution_count": 7,
   "id": "3958accf",
   "metadata": {},
   "outputs": [
    {
     "name": "stdout",
     "output_type": "stream",
     "text": [
      "     Year                         Date   Time    HomeTeam     AwayTeam  \\\n",
      "2    1957                     16-Feb-57    NaN     Egypt      Ethiopia   \n",
      "3    1959                     22-May-59    NaN      Egypt     Ethiopia   \n",
      "6    1962                     14-Jan-62    NaN  Ethiopia       Tunisia   \n",
      "8    1962                     20-Jan-62    NaN   Tunisia        Uganda   \n",
      "9    1962                     21-Jan-62    NaN  Ethiopia         Egypt   \n",
      "..    ...                           ...    ...        ...          ...   \n",
      "553  2017  20 January 2017 (2017-01-20)  20:00   Morocco          Togo   \n",
      "585  2019     27 June 2019 (2019-06-27)  22:00     Kenya      Tanzania   \n",
      "595  2019     24 June 2019 (2019-06-24)  22:00      Mali    Mauritania   \n",
      "608  2019      6 July 2019 (2019-07-06)  18:00   Nigeria      Cameroon   \n",
      "611  2019      7 July 2019 (2019-07-07)  21:00   Algeria        Guinea   \n",
      "\n",
      "     HomeTeamGoals  AwayTeamGoals              Stage    SpecialWinConditions  \\\n",
      "2              4.0            0.0              Final                     NaN   \n",
      "3              4.0            0.0   Final Tournament                     NaN   \n",
      "6              4.0            2.0         Semifinals                     NaN   \n",
      "8              3.0            0.0  Third place match                     NaN   \n",
      "9              4.0            2.0              Final   win after extra time    \n",
      "..             ...            ...                ...                     ...   \n",
      "553            3.0            1.0            Group C                     NaN   \n",
      "585            3.0            2.0            Group C                     NaN   \n",
      "595            4.0            1.0            Group E                     NaN   \n",
      "608            3.0            2.0        Round of 16                     NaN   \n",
      "611            3.0            0.0        Round of 16                     NaN   \n",
      "\n",
      "                    Stadium          City  Attendance  \n",
      "2         Municipal Stadium      Khartoum     30000.0  \n",
      "3     Prince Farouk Stadium         Cairo     30000.0  \n",
      "6    Hailé Sélassié Stadium   Addis Ababa     30000.0  \n",
      "8    Hailé Sélassié Stadium   Addis Ababa         NaN  \n",
      "9    Hailé Sélassié Stadium   Addis Ababa         NaN  \n",
      "..                      ...           ...         ...  \n",
      "553            Stade d'Oyem          Oyem         NaN  \n",
      "585         30 June Stadium         Cairo      7233.0  \n",
      "595            Suez Stadium          Suez      6202.0  \n",
      "608      Alexandria Stadium    Alexandria     10000.0  \n",
      "611         30 June Stadium         Cairo      8205.0  \n",
      "\n",
      "[138 rows x 12 columns]\n",
      "------------------------------\n"
     ]
    }
   ],
   "source": [
    "# 7. Pandas program select the rows where the ‘HomeTeamGoals’ are between 3 and 6 inclusive.\n",
    "goals_between_3_and_6 = df[(df['HomeTeamGoals'] >= 3) & (df['HomeTeamGoals'] <= 6)]\n",
    "print(goals_between_3_and_6)\n",
    "print(\"-\" * 30)\n",
    "\n"
   ]
  },
  {
   "cell_type": "code",
   "execution_count": 9,
   "id": "dab7e269",
   "metadata": {},
   "outputs": [
    {
     "name": "stdout",
     "output_type": "stream",
     "text": [
      "8. DataFrame after changing 'AwayTeamGoals' in the 3rd row to 10:\n",
      "   Year      Date  Time    HomeTeam       AwayTeam  HomeTeamGoals  \\\n",
      "0  1957  10-Feb-57   NaN     Sudan           Egypt            1.0   \n",
      "1  1957  10-Feb-57   NaN  Ethiopia    South Africa            NaN   \n",
      "2  1957  16-Feb-57   NaN     Egypt        Ethiopia            4.0   \n",
      "3  1959  22-May-59   NaN      Egypt       Ethiopia            4.0   \n",
      "4  1959  25-May-59   NaN     Sudan        Ethiopia            1.0   \n",
      "\n",
      "   AwayTeamGoals             Stage  \\\n",
      "0            2.0        Semifinals   \n",
      "1            NaN        Semifinals   \n",
      "2           10.0             Final   \n",
      "3            0.0  Final Tournament   \n",
      "4            0.0  Final Tournament   \n",
      "\n",
      "                                SpecialWinConditions                Stadium  \\\n",
      "0                                                NaN      Municipal Stadium   \n",
      "1  Ethiopia  wins due to disqualification of othe...                    NaN   \n",
      "2                                                NaN      Municipal Stadium   \n",
      "3                                                NaN  Prince Farouk Stadium   \n",
      "4                                                NaN  Prince Farouk Stadium   \n",
      "\n",
      "        City  Attendance  \n",
      "0   Khartoum     30000.0  \n",
      "1        NaN         NaN  \n",
      "2   Khartoum     30000.0  \n",
      "3      Cairo     30000.0  \n",
      "4      Cairo     20000.0  \n",
      "------------------------------\n"
     ]
    }
   ],
   "source": [
    "# 8. Pandas program that change the “AwayTeamGoals” in the 3rd row to 10.\n",
    "\n",
    "df.loc[2, 'AwayTeamGoals'] = 10\n",
    "print(\"8. DataFrame after changing 'AwayTeamGoals' in the 3rd row to 10:\")\n",
    "print(df.head())\n",
    "print(\"-\" * 30)\n",
    "\n"
   ]
  },
  {
   "cell_type": "code",
   "execution_count": null,
   "id": "00b7a877",
   "metadata": {},
   "outputs": [
    {
     "name": "stdout",
     "output_type": "stream",
     "text": [
      "9. DataFrame sorted by 'HomeTeam' (ascending) and then by 'HomeTeamGoals' (descending):\n",
      "     Year      Date  Time   HomeTeam  AwayTeam  HomeTeamGoals  AwayTeamGoals  \\\n",
      "205  1990   2-Mar-90   NaN  Algeria    Nigeria            5.0            1.0   \n",
      "29   1968  14-Jan-68   NaN  Algeria     Uganda            4.0            0.0   \n",
      "135  1980  16-Mar-80   NaN  Algeria     Guinea            3.0            2.0   \n",
      "164  1984   5-Mar-84   NaN  Algeria     Malawi            3.0            0.0   \n",
      "171  1984  17-Mar-84   NaN  Algeria      Egypt            3.0            1.0   \n",
      "\n",
      "                 Stage SpecialWinConditions                       Stadium  \\\n",
      "205            Group A                  NaN          Stade 5 Juillet 1962   \n",
      "29             Group A                  NaN        Hailé Sélassié Stadium   \n",
      "135            Group B                  NaN               Liberty Stadium   \n",
      "164            Group B                  NaN                  Stade Bouaké   \n",
      "171  Third place match                  NaN  Stade Félix Houphouët-Boigny   \n",
      "\n",
      "             City  Attendance  \n",
      "205       Algiers     85000.0  \n",
      "29    Addis Ababa     25000.0  \n",
      "135        Ibadan     20000.0  \n",
      "164        Bouaké     10000.0  \n",
      "171       Abidjan       500.0  \n",
      "------------------------------\n"
     ]
    }
   ],
   "source": [
    "# 9. Write a Pandas program to sort the DataFrame first by ‘HomeTeam’ in ascending order, then by ‘HomeTeamGoals’ in descending order.\n",
    "\n",
    "sorted_df = df.sort_values(by=['HomeTeam', 'HomeTeamGoals'], ascending=[True, False])\n",
    "print(\"9. DataFrame sorted by 'HomeTeam' (ascending) and then by 'HomeTeamGoals' (descending):\")\n",
    "print(sorted_df.head())\n",
    "print(\"-\" * 30)\n",
    "\n"
   ]
  },
  {
   "cell_type": "code",
   "execution_count": null,
   "id": "b75c895c",
   "metadata": {},
   "outputs": [],
   "source": [
    "# 10. Write a Pandas program to get list from DataFrame column headers.\n",
    "column_headers = df.columns.tolist()\n",
    "print(\"10. List of DataFrame column headers:\")\n",
    "print(column_headers)\n",
    "print(\"-\" * 30)\n",
    "\n"
   ]
  },
  {
   "cell_type": "code",
   "execution_count": null,
   "id": "3bbd42da",
   "metadata": {},
   "outputs": [],
   "source": [
    "# 11. Write a Pandas program to append a column of your choice to your DataFrame.\n",
    "df['MatchOutcome'] = np.where(df['HomeTeamGoals'] > df['AwayTeamGoals'], 'HomeWin',\n",
    "                             np.where(df['HomeTeamGoals'] < df['AwayTeamGoals'], 'AwayWin', 'Draw'))\n",
    "print(\"11. DataFrame after appending 'MatchOutcome' column:\")\n",
    "print(df.head())\n",
    "print(\"-\" * 30)\n",
    "\n"
   ]
  },
  {
   "cell_type": "code",
   "execution_count": null,
   "id": "fa0559fd",
   "metadata": {},
   "outputs": [],
   "source": [
    "# 12. Write a Pandas program to add 2 rows to your DataFrame.\n",
    "new_rows_data = {\n",
    "    'Year': [2024, 2024],\n",
    "    'Date': ['2024-01-20', '2024-01-21'],\n",
    "    'HomeTeam': ['Burkina Faso', 'Mali'],\n",
    "    'AwayTeam': ['Mauritania', 'DR Congo'],\n",
    "    'HomeTeamGoals': [1, 2],\n",
    "    'AwayTeamGoals': [0, 1],\n",
    "    'HomeTeamPenalties': [0, 0],\n",
    "    'AwayTeamPenalties': [0, 0],\n",
    "    'Attendance': [20000, 22000],\n",
    "    'Stadium': ['Stade Olympique Alassane Ouattara', 'Stade Olympique Alassane Ouattara'],\n",
    "    'City': ['Abidjan', 'Abidjan'],\n",
    "    'MatchOutcome': ['HomeWin', 'HomeWin'] # Added for consistency with the new column\n",
    "}\n",
    "new_rows_df = pd.DataFrame(new_rows_data)\n",
    "df = pd.concat([df, new_rows_df], ignore_index=True)\n",
    "print(\"12. DataFrame after adding 2 new rows:\")\n",
    "print(df.tail()) # Show the last few rows to see the appended data\n",
    "print(\"-\" * 30)\n",
    "\n"
   ]
  },
  {
   "cell_type": "code",
   "execution_count": null,
   "id": "a3b3b472",
   "metadata": {},
   "outputs": [],
   "source": [
    "# 13. Write a Pandas program to change the country ‘Uganda’ to ‘China’ in the ‘AwayTeam’ column of the DataFrame.\n",
    "df['AwayTeam'] = df['AwayTeam'].replace('Uganda', 'China')\n",
    "print(\"13. DataFrame after changing 'Uganda' to 'China' in 'AwayTeam' column:\")\n",
    "print(df[df['AwayTeam'] == 'China'])\n",
    "print(\"-\" * 30)\n",
    "\n"
   ]
  },
  {
   "cell_type": "code",
   "execution_count": null,
   "id": "f1cedc0d",
   "metadata": {},
   "outputs": [],
   "source": [
    "# 14. Write a Pandas program to reset index in your DataFrame.\n",
    "df_reset_index = df.reset_index(drop=True)\n",
    "print(\"14. DataFrame after resetting index:\")\n",
    "print(df_reset_index.head())\n",
    "print(\"-\" * 30)\n",
    "\n"
   ]
  },
  {
   "cell_type": "code",
   "execution_count": null,
   "id": "56d951e4",
   "metadata": {},
   "outputs": [],
   "source": [
    "# 15. Write a Pandas program to check whether the ‘Stadium’ column is present in your DataFrame or not.\n",
    "is_stadium_present = 'Stadium' in df.columns\n",
    "print(f\"15. Is 'Stadium' column present in the DataFrame? {is_stadium_present}\")\n",
    "print(\"-\" * 30)\n",
    "\n"
   ]
  },
  {
   "cell_type": "code",
   "execution_count": null,
   "id": "e4078b9b",
   "metadata": {},
   "outputs": [],
   "source": [
    "# 16. Write a Pandas program to convert the datatype of the ‘AwayTeamGoals’. (int to float)\n",
    "df['AwayTeamGoals'] = df['AwayTeamGoals'].astype(float)\n",
    "print(\"16. Datatype of 'AwayTeamGoals' after conversion to float:\")\n",
    "print(df['AwayTeamGoals'].dtype)\n",
    "print(df.head())\n",
    "print(\"-\" * 30)\n",
    "\n"
   ]
  },
  {
   "cell_type": "code",
   "execution_count": null,
   "id": "f139712e",
   "metadata": {},
   "outputs": [],
   "source": [
    "# 17. Write a Pandas program to remove the last 10 rows from your DataFrame.\n",
    "# Ensure there are at least 10 rows to remove.\n",
    "if len(df) > 10:\n",
    "    df_removed_last_10 = df.iloc[:-10]\n",
    "    print(\"17. DataFrame after removing the last 10 rows (showing tail of the new DataFrame):\")\n",
    "    print(df_removed_last_10.tail())\n",
    "    print(f\"New number of rows: {len(df_removed_last_10)}\")\n",
    "else:\n",
    "    print(\"17. Cannot remove last 10 rows, DataFrame has less than or equal to 10 rows.\")\n",
    "print(\"-\" * 30)\n",
    "\n"
   ]
  },
  {
   "cell_type": "code",
   "execution_count": null,
   "id": "20c8bb6c",
   "metadata": {},
   "outputs": [],
   "source": [
    "# 18. Write a Pandas program to iterate over rows in your DataFrame.\n",
    "print(\"18. Iterating over rows (first 3 rows for demonstration):\")\n",
    "for index, row in df.head(3).iterrows():\n",
    "    print(f\"Index: {index}, Home Team: {row['HomeTeam']}, Away Team: {row['AwayTeam']}, Goals: {row['HomeTeamGoals']}-{row['AwayTeamGoals']}\")\n",
    "print(\"-\" * 30)\n",
    "\n"
   ]
  },
  {
   "cell_type": "code",
   "execution_count": null,
   "id": "d0434e7e",
   "metadata": {},
   "outputs": [],
   "source": [
    "# 19. Write a Pandas program to change the order of your DataFrame columns.\n",
    "# Example: Move 'MatchOutcome' to be the second column\n",
    "current_columns = df.columns.tolist()\n",
    "new_column_order = ['Year', 'MatchOutcome', 'Date', 'HomeTeam', 'AwayTeam', 'HomeTeamGoals', 'AwayTeamGoals',\n",
    "                    'HomeTeamPenalties', 'AwayTeamPenalties', 'Attendance', 'Stadium', 'City']\n",
    "df_reordered_columns = df[new_column_order]\n",
    "print(\"19. DataFrame after changing the order of columns (first 5 rows):\")\n",
    "print(df_reordered_columns.head())\n",
    "print(\"-\" * 30)\n",
    "\n"
   ]
  },
  {
   "cell_type": "code",
   "execution_count": null,
   "id": "1af33fcb",
   "metadata": {},
   "outputs": [],
   "source": [
    "# 20. Write a Pandas program to delete DataFrame row(s) whose value is 0 in the ‘HomeTeamGoals’ columns.\n",
    "df_no_zero_home_goals = df[df['HomeTeamGoals'] != 0]\n",
    "print(\"20. DataFrame after deleting rows where 'HomeTeamGoals' is 0:\")\n",
    "print(df_no_zero_home_goals)\n",
    "print(\"-\" * 30)"
   ]
  }
 ],
 "metadata": {
  "kernelspec": {
   "display_name": "Python 3",
   "language": "python",
   "name": "python3"
  },
  "language_info": {
   "codemirror_mode": {
    "name": "ipython",
    "version": 3
   },
   "file_extension": ".py",
   "mimetype": "text/x-python",
   "name": "python",
   "nbconvert_exporter": "python",
   "pygments_lexer": "ipython3",
   "version": "3.12.10"
  }
 },
 "nbformat": 4,
 "nbformat_minor": 5
}
