{
 "cells": [
  {
   "cell_type": "code",
   "execution_count": null,
   "id": "bfdba73c",
   "metadata": {},
   "outputs": [
    {
     "name": "stdout",
     "output_type": "stream",
     "text": [
      "A male pesrson is born but a man is made\n"
     ]
    }
   ],
   "source": [
    "file=open('text.txt','r')\n",
    "content=file.read()\n",
    "print(content)\n"
   ]
  },
  {
   "cell_type": "code",
   "execution_count": null,
   "id": "29467b4a",
   "metadata": {},
   "outputs": [
    {
     "name": "stdout",
     "output_type": "stream",
     "text": [
      "on average 50 students are unable to complete fees \n",
      "5% of the learners fall sick every term\n"
     ]
    }
   ],
   "source": [
    "with open('report.txt','w') as file:\n",
    "    file.write('on average 50 students are unable to complete fees ')\n",
    "    file.write('\\n5% of the learners fall sick every term')\n",
    "    \n",
    "with open('report.txt','r',) as file:\n",
    "    content=file.read()   \n",
    "    print(content)\n"
   ]
  },
  {
   "cell_type": "markdown",
   "id": "f6348b30",
   "metadata": {},
   "source": [
    "\n"
   ]
  }
 ],
 "metadata": {
  "kernelspec": {
   "display_name": "Python 3",
   "language": "python",
   "name": "python3"
  },
  "language_info": {
   "codemirror_mode": {
    "name": "ipython",
    "version": 3
   },
   "file_extension": ".py",
   "mimetype": "text/x-python",
   "name": "python",
   "nbconvert_exporter": "python",
   "pygments_lexer": "ipython3",
   "version": "3.12.10"
  }
 },
 "nbformat": 4,
 "nbformat_minor": 5
}
